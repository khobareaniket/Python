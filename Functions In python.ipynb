{
 "cells": [
  {
   "cell_type": "markdown",
   "id": "af691a9f-c709-49ed-a5c6-73ed0c75b9f3",
   "metadata": {},
   "source": [
    "# Functions In python"
   ]
  },
  {
   "cell_type": "markdown",
   "id": "5cbf2dad-9119-419a-be61-cd56e45b328f",
   "metadata": {},
   "source": [
    "## greet(name):* Write a function that takes a name as an argument and prints \"Hello, [name]!\""
   ]
  },
  {
   "cell_type": "code",
   "execution_count": null,
   "id": "6450976b-2668-4110-a640-77765a15a7ef",
   "metadata": {},
   "outputs": [],
   "source": [
    "def greet(name):\n",
    "    print(\"Hello\",name)\n",
    "\n",
    "nm = input(\"Enter Name\")\n",
    "greet(nm)"
   ]
  },
  {
   "cell_type": "markdown",
   "id": "51a6c56a-c9ea-48dd-888e-6703f7cde369",
   "metadata": {},
   "source": [
    "## add_two_numbers(num1, num2):* Write a function that takes two numbers and returns their sum."
   ]
  },
  {
   "cell_type": "code",
   "execution_count": 2,
   "id": "703877ab-d691-4828-b46d-cc8a8722a0f4",
   "metadata": {},
   "outputs": [
    {
     "name": "stdin",
     "output_type": "stream",
     "text": [
      "Enter first no:  12\n",
      "Enter Second no:  12\n"
     ]
    },
    {
     "name": "stdout",
     "output_type": "stream",
     "text": [
      "Addition Of two nos:  24\n"
     ]
    }
   ],
   "source": [
    "def add(x,y):\n",
    "    print(\"Addition Of two nos: \",x+y)\n",
    "a = int(input(\"Enter first no: \"))\n",
    "b = int(input(\"Enter Second no: \"))\n",
    "add(a,b)"
   ]
  },
  {
   "cell_type": "markdown",
   "id": "cb43f6ce-39bb-47db-a941-78ee93636d92",
   "metadata": {},
   "source": [
    "## is_even(number):* Write a function that takes an integer and returns True if it's even, False otherwise."
   ]
  },
  {
   "cell_type": "code",
   "execution_count": null,
   "id": "fe8599a1-eae4-4822-878b-c9d4969f3f08",
   "metadata": {},
   "outputs": [],
   "source": [
    "def is_even(no):\n",
    "    if no % 2 == 0:\n",
    "        return True\n",
    "    else:\n",
    "        return False\n",
    "\n",
    "n = int(input(\"Enter Number:\"))\n",
    "if is_even(n):\n",
    "    print(\"no is Even\")\n",
    "else:\n",
    "    print(\"no is odd\")"
   ]
  },
  {
   "cell_type": "markdown",
   "id": "b5dd98e9-4fd1-4492-8fc2-edd1c00812f8",
   "metadata": {},
   "source": [
    "## get_maximum(a, b):* Write a function that takes two numbers and returns the larger one."
   ]
  },
  {
   "cell_type": "code",
   "execution_count": 7,
   "id": "c8379991-446d-4acb-92e6-02bd36189cc3",
   "metadata": {},
   "outputs": [
    {
     "name": "stdin",
     "output_type": "stream",
     "text": [
      "Enter First no: 12\n",
      "Enter Second no: 45\n"
     ]
    },
    {
     "name": "stdout",
     "output_type": "stream",
     "text": [
      "Large number is  45\n"
     ]
    }
   ],
   "source": [
    "def large(x,y):\n",
    "    if x > y:\n",
    "        return x\n",
    "    else:\n",
    "        return y\n",
    "\n",
    "a = int(input(\"Enter First no:\"))\n",
    "b = int(input(\"Enter Second no:\"))\n",
    "\n",
    "print(\"Large number is \",large(a,b))"
   ]
  },
  {
   "cell_type": "markdown",
   "id": "ceb8bbe6-566e-4b5e-b772-75b3610bfcaf",
   "metadata": {},
   "source": [
    "## print_message():* Write a function that prints a simple message like \"Python functions are fun!\"."
   ]
  },
  {
   "cell_type": "code",
   "execution_count": 8,
   "id": "bc19f178-b16b-4361-949f-6421a9b3764e",
   "metadata": {},
   "outputs": [
    {
     "name": "stdin",
     "output_type": "stream",
     "text": [
      "Enter Message Hello,My Name is Aniket\n"
     ]
    },
    {
     "name": "stdout",
     "output_type": "stream",
     "text": [
      "Hello,My Name is Aniket\n"
     ]
    }
   ],
   "source": [
    "def print_simple_msg(msg):\n",
    "    print(msg)\n",
    "\n",
    "message = input(\"Enter Message\")\n",
    "print_simple_msg(message)"
   ]
  },
  {
   "cell_type": "markdown",
   "id": "52cad160-9e45-45a8-8067-c09377d90363",
   "metadata": {},
   "source": [
    "## calculate_area_rectangle(length, width):* Write a function that takes length and width of a rectangle and returns its area."
   ]
  },
  {
   "cell_type": "code",
   "execution_count": 9,
   "id": "ba192cf0-c9c7-4e8e-9d3b-2b35f2552180",
   "metadata": {},
   "outputs": [
    {
     "name": "stdin",
     "output_type": "stream",
     "text": [
      "Enter Length: 12\n",
      "Enter Width:  3\n"
     ]
    },
    {
     "name": "stdout",
     "output_type": "stream",
     "text": [
      "Area of Rectangle is  36\n"
     ]
    }
   ],
   "source": [
    "def cal_area(l,w):\n",
    "    return l*w\n",
    "\n",
    "l1 = int(input(\"Enter Length:\"))\n",
    "w1 = int(input(\"Enter Width: \"))\n",
    "print(\"Area of Rectangle is \", cal_area(l1,w1))"
   ]
  },
  {
   "cell_type": "markdown",
   "id": "b7d7c7cf-a2fb-4ceb-bd91-7d87d98949dd",
   "metadata": {},
   "source": [
    "## celsius_to_fahrenheit(celsius):* Write a function that converts Celsius to Fahrenheit. (Formula: $F = C \\times 9/5 + 32$)"
   ]
  },
  {
   "cell_type": "code",
   "execution_count": 11,
   "id": "de1a79a2-2134-4001-8ed7-d50431222e68",
   "metadata": {},
   "outputs": [
    {
     "name": "stdout",
     "output_type": "stream",
     "text": [
      "68.0\n"
     ]
    }
   ],
   "source": [
    "def cel_to_fah(c):\n",
    "    return c * 9 / 5 + 32\n",
    "\n",
    "print(cel_to_fah(20))"
   ]
  },
  {
   "cell_type": "markdown",
   "id": "2a1951ed-29d2-431b-8b96-9413f860db47",
   "metadata": {},
   "source": [
    "## get_list_length(my_list):* Write a function that takes a list and returns its length without using len()."
   ]
  },
  {
   "cell_type": "code",
   "execution_count": 12,
   "id": "b85a578c-0bae-4c26-ad5c-8b8a53d53701",
   "metadata": {},
   "outputs": [
    {
     "name": "stdout",
     "output_type": "stream",
     "text": [
      "4\n"
     ]
    }
   ],
   "source": [
    "def get_len(l):\n",
    "    c = 0\n",
    "    for _ in l:\n",
    "        c += 1\n",
    "    return c\n",
    "print(get_len([1, 2, 3, 4])) "
   ]
  },
  {
   "cell_type": "markdown",
   "id": "8058fb66-5c3f-4fc9-8f0c-aec1e46e83cc",
   "metadata": {},
   "source": [
    "## square(number):* Write a function that takes a number and returns its square."
   ]
  },
  {
   "cell_type": "code",
   "execution_count": 13,
   "id": "de7b3d00-c85e-4704-9188-acbb92cc735b",
   "metadata": {},
   "outputs": [
    {
     "name": "stdout",
     "output_type": "stream",
     "text": [
      "25\n"
     ]
    }
   ],
   "source": [
    "def square(n):\n",
    "    return n * n\n",
    "print(square(5)) "
   ]
  },
  {
   "cell_type": "markdown",
   "id": "506b984c-69ad-4b56-a3f6-3d1ed34746fa",
   "metadata": {},
   "source": [
    "## is_positive(number):* Write a function that takes a number and returns True if it's positive, False otherwise."
   ]
  },
  {
   "cell_type": "code",
   "execution_count": 15,
   "id": "6f6853a0-32fe-46e8-89e2-772893475703",
   "metadata": {},
   "outputs": [
    {
     "name": "stdout",
     "output_type": "stream",
     "text": [
      "False\n"
     ]
    }
   ],
   "source": [
    "def is_positive(n):\n",
    "    return n > 0\n",
    "print(is_positive(-3)) "
   ]
  },
  {
   "cell_type": "markdown",
   "id": "81aff1fd-9450-4341-b0c9-000a14c9f9ad",
   "metadata": {},
   "source": [
    "## calculate_average(numbers):* Write a function that takes a list of numbers and returns their average."
   ]
  },
  {
   "cell_type": "code",
   "execution_count": 16,
   "id": "2f2e0b37-1880-4f1f-8e65-19122b3325fa",
   "metadata": {},
   "outputs": [
    {
     "name": "stdout",
     "output_type": "stream",
     "text": [
      "2.0\n"
     ]
    }
   ],
   "source": [
    "def cal_avg(n):\n",
    "    t = 0\n",
    "    c = 0\n",
    "    for num in n:\n",
    "        t += num\n",
    "        c += 1\n",
    "    return t / c \n",
    "print(cal_avg([1, 2, 3])) "
   ]
  },
  {
   "cell_type": "markdown",
   "id": "fcb2bab8-3200-4390-9b7d-40ae498194cf",
   "metadata": {},
   "source": [
    "## is_palindrome(text):* Write a function that takes a string and returns True if it's a palindrome (reads the same forwards and backwards), False otherwise."
   ]
  },
  {
   "cell_type": "code",
   "execution_count": 17,
   "id": "518884ce-8a70-4a91-88ad-645c10655f8b",
   "metadata": {},
   "outputs": [
    {
     "name": "stdout",
     "output_type": "stream",
     "text": [
      "True\n"
     ]
    }
   ],
   "source": [
    "def is_palindrome(t):\n",
    "    return t == t[::-1]\n",
    "print(is_palindrome(\"mam\"))  "
   ]
  },
  {
   "cell_type": "markdown",
   "id": "52f95e00-81d8-44c4-b7ba-af3f3966318d",
   "metadata": {},
   "source": [
    "## count_vowels(text):* Write a function that takes a string and returns the number of vowels in it."
   ]
  },
  {
   "cell_type": "code",
   "execution_count": null,
   "id": "24e28c6c-afcf-440a-a9d8-41fd8d73adec",
   "metadata": {},
   "outputs": [],
   "source": [
    "def count_vowels(t):\n",
    "    v = \"aeiouAEIOU\"\n",
    "    c = 0\n",
    "    for char in t:\n",
    "        if char in v:\n",
    "            c += 1\n",
    "    return c\n",
    "print(count_vowels(\"Aniket\"))"
   ]
  },
  {
   "cell_type": "markdown",
   "id": "50e942c0-d56e-4ab2-8c42-763825c97cf8",
   "metadata": {},
   "source": [
    "## factorial(n):* Write a recursive function to calculate the factorial of a non-negative integer n."
   ]
  },
  {
   "cell_type": "code",
   "execution_count": 19,
   "id": "032f2076-cadb-4622-baa7-7650525214d8",
   "metadata": {},
   "outputs": [
    {
     "name": "stdout",
     "output_type": "stream",
     "text": [
      "120\n"
     ]
    }
   ],
   "source": [
    "def fact(n):\n",
    "    if n == 0 or n == 1:\n",
    "        return 1\n",
    "    return n * fact(n - 1)\n",
    "print(fact(5))"
   ]
  },
  {
   "cell_type": "markdown",
   "id": "f71358d1-f1c0-4911-8309-22f351a7aafd",
   "metadata": {},
   "source": [
    "## reverse_string(s):* Write a function that takes a string and returns its reversed version."
   ]
  },
  {
   "cell_type": "code",
   "execution_count": 20,
   "id": "8ca77bcb-87be-4954-9476-104dd323c48f",
   "metadata": {},
   "outputs": [
    {
     "name": "stdout",
     "output_type": "stream",
     "text": [
      "tekinA\n"
     ]
    }
   ],
   "source": [
    "def rev_string(s):\n",
    "    return s[::-1]\n",
    "print(rev_string(\"Aniket\"))"
   ]
  },
  {
   "cell_type": "markdown",
   "id": "4c339e6d-a585-4e18-b0c3-cc773877ee80",
   "metadata": {},
   "source": [
    "## find_smallest(numbers):* Write a function that takes a list of numbers and returns the smallest number in the list."
   ]
  },
  {
   "cell_type": "code",
   "execution_count": 21,
   "id": "0211e8e2-8d66-4440-82fa-fdda1bc63f56",
   "metadata": {},
   "outputs": [
    {
     "name": "stdout",
     "output_type": "stream",
     "text": [
      "1\n"
     ]
    }
   ],
   "source": [
    "def find_smallest(n):\n",
    "    if not n:\n",
    "        return None\n",
    "    s = n[0]\n",
    "    for num in n:\n",
    "        if num < s:\n",
    "            s = num\n",
    "    return s\n",
    "print(find_smallest([3, 1, 4])) "
   ]
  },
  {
   "cell_type": "markdown",
   "id": "d8372698-d2d9-46de-978a-04c525ab63e1",
   "metadata": {},
   "source": [
    "## remove_duplicates(my_list):* Write a function that takes a list and returns a new list with duplicate elements removed."
   ]
  },
  {
   "cell_type": "code",
   "execution_count": 22,
   "id": "5f3a96ee-4cdb-4517-bb4e-96d839f0bb59",
   "metadata": {},
   "outputs": [
    {
     "name": "stdout",
     "output_type": "stream",
     "text": [
      "[1, 2, 3]\n"
     ]
    }
   ],
   "source": [
    "def rm_duplicates(l):\n",
    "    u = []\n",
    "    for i in l:\n",
    "        if i not in u:\n",
    "            u.append(i)\n",
    "    return u\n",
    "print(rm_duplicates([1, 2, 2, 3, 1])) "
   ]
  },
  {
   "cell_type": "markdown",
   "id": "cdc4b265-9568-4141-a55d-737098db0355",
   "metadata": {},
   "source": [
    "## prime_checker(number):* Write a function that checks if a given number is a prime number."
   ]
  },
  {
   "cell_type": "code",
   "execution_count": 23,
   "id": "e1e870e5-3506-4e2a-a767-afec890bf531",
   "metadata": {},
   "outputs": [
    {
     "name": "stdout",
     "output_type": "stream",
     "text": [
      "True\n"
     ]
    }
   ],
   "source": [
    "def prime_checker(n):\n",
    "    if n <= 1:\n",
    "        return False\n",
    "    for i in range(2, int(n ** 0.5) + 1):\n",
    "        if n % i == 0:\n",
    "            return False\n",
    "    return True\n",
    "print(prime_checker(7))  "
   ]
  },
  {
   "cell_type": "markdown",
   "id": "133b3ab9-ae39-434e-a666-7dd82dca819b",
   "metadata": {},
   "source": [
    "## fibonacci_sequence(n_terms):* Write a function that generates the first n_terms of the Fibonacci sequence."
   ]
  },
  {
   "cell_type": "code",
   "execution_count": 25,
   "id": "609620d3-9641-4b05-8091-adf3d3d4dd14",
   "metadata": {},
   "outputs": [
    {
     "name": "stdout",
     "output_type": "stream",
     "text": [
      "[0, 1, 1, 2, 3, 5]\n"
     ]
    }
   ],
   "source": [
    "def fib_seq(n):\n",
    "    s = []\n",
    "    a, b = 0, 1\n",
    "    for _ in range(n):\n",
    "        s.append(a)\n",
    "        a, b = b, a + b\n",
    "    return s\n",
    "print(fib_seq(6))  "
   ]
  },
  {
   "cell_type": "markdown",
   "id": "e34c6f19-0e04-40e1-a948-fa91824254e3",
   "metadata": {},
   "source": [
    "## power(base, exponent):* Write a function that calculates base raised to the power of exponent without using the ** operator or pow() function."
   ]
  },
  {
   "cell_type": "code",
   "execution_count": 26,
   "id": "130db3e1-6904-4754-8611-d3557e783e82",
   "metadata": {},
   "outputs": [
    {
     "name": "stdout",
     "output_type": "stream",
     "text": [
      "8\n"
     ]
    }
   ],
   "source": [
    "def power(b, e):\n",
    "    r = 1\n",
    "    for _ in range(e):\n",
    "        r *= b\n",
    "    return r\n",
    "print(power(2, 3)) "
   ]
  },
  {
   "cell_type": "code",
   "execution_count": 27,
   "id": "efa35f90-756d-40c6-920e-bc05f03c91a7",
   "metadata": {},
   "outputs": [
    {
     "name": "stdout",
     "output_type": "stream",
     "text": [
      "true\n"
     ]
    }
   ],
   "source": [
    "a = [\"@\",\"gmail\"]\n",
    "s = \"Aniket\"\n",
    "\n",
    "if a[0] not in s:\n",
    "    print(\"true\")"
   ]
  },
  {
   "cell_type": "markdown",
   "id": "676bf0fa-53ce-4c1f-8833-9a4cfd9ebf18",
   "metadata": {},
   "source": [
    "## validate_email(email):* Write a function that checks if a given string is a valid email format (e.g., contains '@' and '.'). (Simple validation, no regex needed yet)."
   ]
  },
  {
   "cell_type": "code",
   "execution_count": 5,
   "id": "143ad19f-2c8a-48f3-8b53-b139c44f573d",
   "metadata": {},
   "outputs": [
    {
     "name": "stdin",
     "output_type": "stream",
     "text": [
      "Enter Email:  aniket@gmail.com\n"
     ]
    },
    {
     "name": "stdout",
     "output_type": "stream",
     "text": [
      "Email is in Valid format\n"
     ]
    }
   ],
   "source": [
    "def validate_email(e):\n",
    "    a = [\"@\",\"gmail\",\".\"]\n",
    "    if a[0] in e and a[1] in e and a[2] in e and e.islower():\n",
    "        return True\n",
    "    else :\n",
    "        return False\n",
    "\n",
    "email = input(\"Enter Email: \")\n",
    "if validate_email(email):\n",
    "    print(\"Email is in Valid format\")\n",
    "else:\n",
    "    print(\"Email is not in valid format\")"
   ]
  },
  {
   "cell_type": "markdown",
   "id": "cb747224-3d70-43ab-b5ad-9219616c3930",
   "metadata": {},
   "source": [
    "## merge_sorted_lists(list1, list2):* Write a function that takes two sorted lists and merges them into a single sorted list."
   ]
  },
  {
   "cell_type": "code",
   "execution_count": 7,
   "id": "1a97bdc3-0398-410b-a8bc-32479cc82bb6",
   "metadata": {},
   "outputs": [
    {
     "name": "stdout",
     "output_type": "stream",
     "text": [
      "[10, 12, 24, 25, 46, 65]\n"
     ]
    }
   ],
   "source": [
    "def merge_sorted_list(l1,l2):\n",
    "    return l1+l2\n",
    "\n",
    "a = [10,12,24]\n",
    "b = [25,46,65]\n",
    "c = merge_sorted_list(a,b)\n",
    "\n",
    "print(c)"
   ]
  },
  {
   "cell_type": "markdown",
   "id": "00988e36-380b-4874-b775-c47a1f67fc90",
   "metadata": {},
   "source": [
    "## ind_second_largest(numbers):* Write a function that takes a list of numbers and returns the second largest number. Handle edge cases like lists with less than two elements."
   ]
  },
  {
   "cell_type": "code",
   "execution_count": 9,
   "id": "d4f1f2c5-f338-4a1d-9b79-e58e779da9c6",
   "metadata": {},
   "outputs": [
    {
     "name": "stdout",
     "output_type": "stream",
     "text": [
      "12\n"
     ]
    }
   ],
   "source": [
    "def ind_second_largest(numbers):\n",
    "    return numbers[-2]\n",
    "\n",
    "a = [10,12,24]\n",
    "print(ind_second_largest(a))"
   ]
  },
  {
   "cell_type": "markdown",
   "id": "ed3bc469-0dae-40e4-a64f-87050c246a80",
   "metadata": {},
   "source": [
    "## simple_calculator(num1, operator, num2):* Write a function that takes two numbers and an operator (+, -, \\*, /) and performs the corresponding calculation. Handle division by zero."
   ]
  },
  {
   "cell_type": "code",
   "execution_count": 18,
   "id": "66075e9e-4ff2-4676-8998-dd8fa6c456fa",
   "metadata": {},
   "outputs": [
    {
     "name": "stdin",
     "output_type": "stream",
     "text": [
      "Enter first no:  12\n",
      "Enter Second no:  1\n",
      "Enter Operator(+,-,*,/ /\n"
     ]
    },
    {
     "name": "stdout",
     "output_type": "stream",
     "text": [
      "Division of two nos:  12.0\n"
     ]
    }
   ],
   "source": [
    "def simple_calculator(num1, operator, num2):\n",
    "    if operator == \"+\":\n",
    "        print(\"Addition of two nos: \",num1+num2)\n",
    "    elif operator == \"-\":\n",
    "        print(\"Subtraction of two nos: \",num1-num2)\n",
    "    elif operator == \"*\":\n",
    "        print(\"Multiplication of two nos: \",num1*num2)\n",
    "    elif operator == \"/\":\n",
    "        if num2 == 0:\n",
    "            print(\"Divide by zero Exception\")\n",
    "        else:\n",
    "            print(\"Division of two nos: \",num1/num2)\n",
    "\n",
    "\n",
    "a = int(input(\"Enter first no: \"))\n",
    "b = int(input(\"Enter Second no: \"))\n",
    "c = input(\"Enter Operator(+,-,*,/\")\n",
    "\n",
    "simple_calculator(a,c,b)\n",
    "\n",
    "        "
   ]
  },
  {
   "cell_type": "markdown",
   "id": "3bbda576-bbc6-40ba-9790-8f5babbd72aa",
   "metadata": {},
   "source": [
    "## matrix_addition(matrix1, matrix2):* Write a function that takes two matrices (represented as lists of lists) and returns their sum. Assume matrices have compatible dimensions."
   ]
  },
  {
   "cell_type": "code",
   "execution_count": 22,
   "id": "3d629d4f-1343-4909-96e0-74e5151ad9a9",
   "metadata": {},
   "outputs": [
    {
     "name": "stdout",
     "output_type": "stream",
     "text": [
      "2\n",
      "4\n",
      "6\n",
      "\n",
      "\n",
      "8\n",
      "10\n",
      "12\n",
      "\n",
      "\n",
      "14\n",
      "16\n",
      "18\n",
      "\n",
      "\n"
     ]
    }
   ],
   "source": [
    "def matrix_addition(matrix1, matrix2):\n",
    "    for i in range(3):\n",
    "        for j in range(3):\n",
    "            print(matrix1[i][j]+matrix2[i][j])\n",
    "        print(\"\\n\")\n",
    "\n",
    "a = [[1,2,3],[4,5,6],[7,8,9]]\n",
    "b = [[1,2,3],[4,5,6],[7,8,9]]\n",
    "\n",
    "matrix_addition(a,b)"
   ]
  },
  {
   "cell_type": "markdown",
   "id": "1378710f-6b26-4ec5-96dd-60fd73cc0249",
   "metadata": {},
   "source": [
    "## find_common_elements(list1, list2):* Write a function that takes two lists and returns a new list containing only the common elements between them."
   ]
  },
  {
   "cell_type": "code",
   "execution_count": 23,
   "id": "4bdad0a5-ad75-4762-925a-f2995f436390",
   "metadata": {},
   "outputs": [
    {
     "name": "stdout",
     "output_type": "stream",
     "text": [
      "[10, 24]\n"
     ]
    }
   ],
   "source": [
    "def find_common_elements(list1, list2):\n",
    "    a = []\n",
    "    for i in list1:\n",
    "        if i in list2:\n",
    "            a.append(i)\n",
    "    return a\n",
    "\n",
    "a = [10,12,24]  \n",
    "b = [10,2,3,4,5,24]\n",
    "\n",
    "print(find_common_elements(a,b))"
   ]
  },
  {
   "cell_type": "markdown",
   "id": "05528de2-2c05-46bf-9c63-8826203fb261",
   "metadata": {},
   "source": [
    "## bubble_sort(arr):* Write a function that implements the bubble sort algorithm to sort a list of numbers in ascending order."
   ]
  },
  {
   "cell_type": "code",
   "execution_count": 30,
   "id": "b7b9b699-b20a-45c9-b908-5a50e8eb70e7",
   "metadata": {},
   "outputs": [
    {
     "name": "stdout",
     "output_type": "stream",
     "text": [
      "[2, 3, 4, 5, 10, 24]\n"
     ]
    }
   ],
   "source": [
    "def bubble_sort(arr):\n",
    "    temp =0\n",
    "    for i in range(len(arr)-1):\n",
    "        for j in range(len(arr)-1):\n",
    "            if arr[i] > arr[i+1]:\n",
    "                temp = arr[i]\n",
    "                arr[i] = arr[i+1]\n",
    "                arr[i+1] = temp\n",
    "    return arr\n",
    "\n",
    "a = [10,2,3,4,5,24]\n",
    "print(bubble_sort(a))\n",
    "            "
   ]
  },
  {
   "cell_type": "markdown",
   "id": "ccb0754e-bcab-4620-803c-5322baf65132",
   "metadata": {},
   "source": [
    "## Create a function that prints a *pattern of stars in pyramid shape* for given number of rows.\n"
   ]
  },
  {
   "cell_type": "code",
   "execution_count": 25,
   "id": "78745756-9bd3-4a35-8e7b-2957b9c42011",
   "metadata": {},
   "outputs": [
    {
     "name": "stdin",
     "output_type": "stream",
     "text": [
      "Enter no of rows 3\n"
     ]
    },
    {
     "name": "stdout",
     "output_type": "stream",
     "text": [
      "  *\n",
      " ***\n",
      "*****\n"
     ]
    }
   ],
   "source": [
    "def pattern():\n",
    "    a = int(input(\"Enter no of rows\"))\n",
    "    p=1\n",
    "    for i in range(a):\n",
    "        for j in range(a-i-1):\n",
    "            print(\" \",end=\"\")\n",
    "        for k in range(p):\n",
    "            print(\"*\",end=\"\")\n",
    "        print(\"\")\n",
    "        p+=2\n",
    "\n",
    "pattern()"
   ]
  },
  {
   "cell_type": "markdown",
   "id": "40ab364f-f9bb-4da8-8e34-69fe0d640936",
   "metadata": {},
   "source": [
    "## Write a function to return a list of numbers that are *both even and divisible by 3*. take nos from users"
   ]
  },
  {
   "cell_type": "code",
   "execution_count": 24,
   "id": "9a6c0ff7-ac0d-4ee0-993b-9c0684eb6f14",
   "metadata": {},
   "outputs": [
    {
     "name": "stdin",
     "output_type": "stream",
     "text": [
      "Enter numbers(0 for stop):  30\n",
      "Enter numbers(0 for stop):  12\n",
      "Enter numbers(0 for stop):  0\n"
     ]
    },
    {
     "name": "stdout",
     "output_type": "stream",
     "text": [
      "[30, 12]\n",
      "list of numbers that are both even and divisible by 3:  [30, 12]\n"
     ]
    }
   ],
   "source": [
    "def even_div_3():\n",
    "    \n",
    "    a=[]\n",
    "    res=[]\n",
    "    while(True):\n",
    "        b=int(input(\"Enter numbers(0 for stop): \"))\n",
    "        if b==0:\n",
    "            break\n",
    "        else:\n",
    "            if b % 3 == 0 and b % 2 == 0:\n",
    "                res.append(b)\n",
    "            a.append(b)\n",
    "    \n",
    "    \n",
    "    print(a)\n",
    "    print(\"list of numbers that are both even and divisible by 3: \",res)\n",
    "\n",
    "even_div_3()"
   ]
  },
  {
   "cell_type": "markdown",
   "id": "206d14a5-32cb-456e-81d4-86032b0ef475",
   "metadata": {},
   "source": [
    "## Write a function that accepts a number and returns a list of its *multiples up to 100*"
   ]
  },
  {
   "cell_type": "code",
   "execution_count": 21,
   "id": "ca5ef499-daaf-463b-bf57-c797361d8327",
   "metadata": {},
   "outputs": [
    {
     "name": "stdin",
     "output_type": "stream",
     "text": [
      "Enter a number:  12\n"
     ]
    },
    {
     "name": "stdout",
     "output_type": "stream",
     "text": [
      "12 24 48 96 "
     ]
    }
   ],
   "source": [
    "def multi_100():\n",
    "\n",
    "    a = int(input(\"Enter a number: \"))\n",
    "    while(True):\n",
    "        print(a,end=\" \")\n",
    "        a *= 2\n",
    "        if a >= 100:\n",
    "            break\n",
    "\n",
    "multi_100()"
   ]
  },
  {
   "cell_type": "markdown",
   "id": "0e140dfa-e197-4976-97d9-b227a7aba912",
   "metadata": {},
   "source": [
    "## Write a function that takes two strings and returns *True if they are anagrams*."
   ]
  },
  {
   "cell_type": "code",
   "execution_count": 29,
   "id": "a9b6fb12-e844-403f-8c3a-e6882d12b3e0",
   "metadata": {},
   "outputs": [
    {
     "name": "stdin",
     "output_type": "stream",
     "text": [
      "Enter first String:  ANiket\n",
      "Enter Second String:  Tekina\n"
     ]
    },
    {
     "data": {
      "text/plain": [
       "True"
      ]
     },
     "execution_count": 29,
     "metadata": {},
     "output_type": "execute_result"
    }
   ],
   "source": [
    "def anagrams(st1,st2):\n",
    "    if sorted(st1) == sorted(st2):\n",
    "        return True\n",
    "    else:\n",
    "        return False\n",
    "\n",
    "    \n",
    "str1 = input(\"Enter first String: \").lower()\n",
    "str2 = input(\"Enter Second String: \").lower()\n",
    "\n",
    "anagrams(str1,str2)"
   ]
  },
  {
   "cell_type": "code",
   "execution_count": null,
   "id": "98b20860-a574-4bdc-b6cf-e193690bb149",
   "metadata": {},
   "outputs": [],
   "source": []
  }
 ],
 "metadata": {
  "kernelspec": {
   "display_name": "Python 3 (ipykernel)",
   "language": "python",
   "name": "python3"
  },
  "language_info": {
   "codemirror_mode": {
    "name": "ipython",
    "version": 3
   },
   "file_extension": ".py",
   "mimetype": "text/x-python",
   "name": "python",
   "nbconvert_exporter": "python",
   "pygments_lexer": "ipython3",
   "version": "3.13.3"
  }
 },
 "nbformat": 4,
 "nbformat_minor": 5
}
