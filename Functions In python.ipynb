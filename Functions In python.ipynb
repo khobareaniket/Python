{
 "cells": [
  {
   "cell_type": "markdown",
   "id": "af691a9f-c709-49ed-a5c6-73ed0c75b9f3",
   "metadata": {},
   "source": [
    "# Functions In python"
   ]
  },
  {
   "cell_type": "markdown",
   "id": "5cbf2dad-9119-419a-be61-cd56e45b328f",
   "metadata": {},
   "source": [
    "## greet(name):* Write a function that takes a name as an argument and prints \"Hello, [name]!\""
   ]
  },
  {
   "cell_type": "code",
   "execution_count": null,
   "id": "6450976b-2668-4110-a640-77765a15a7ef",
   "metadata": {},
   "outputs": [],
   "source": [
    "def greet(name):\n",
    "    print(\"Hello\",name)\n",
    "\n",
    "nm = input(\"Enter Name\")\n",
    "greet(nm)"
   ]
  },
  {
   "cell_type": "markdown",
   "id": "51a6c56a-c9ea-48dd-888e-6703f7cde369",
   "metadata": {},
   "source": [
    "## add_two_numbers(num1, num2):* Write a function that takes two numbers and returns their sum."
   ]
  },
  {
   "cell_type": "code",
   "execution_count": 2,
   "id": "703877ab-d691-4828-b46d-cc8a8722a0f4",
   "metadata": {},
   "outputs": [
    {
     "name": "stdin",
     "output_type": "stream",
     "text": [
      "Enter first no:  12\n",
      "Enter Second no:  12\n"
     ]
    },
    {
     "name": "stdout",
     "output_type": "stream",
     "text": [
      "Addition Of two nos:  24\n"
     ]
    }
   ],
   "source": [
    "def add(x,y):\n",
    "    print(\"Addition Of two nos: \",x+y)\n",
    "a = int(input(\"Enter first no: \"))\n",
    "b = int(input(\"Enter Second no: \"))\n",
    "add(a,b)"
   ]
  },
  {
   "cell_type": "markdown",
   "id": "cb43f6ce-39bb-47db-a941-78ee93636d92",
   "metadata": {},
   "source": [
    "## is_even(number):* Write a function that takes an integer and returns True if it's even, False otherwise."
   ]
  },
  {
   "cell_type": "code",
   "execution_count": null,
   "id": "fe8599a1-eae4-4822-878b-c9d4969f3f08",
   "metadata": {},
   "outputs": [],
   "source": [
    "def is_even(no):\n",
    "    if no % 2 == 0:\n",
    "        return True\n",
    "    else:\n",
    "        return False\n",
    "\n",
    "n = int(input(\"Enter Number:\"))\n",
    "if is_even(n):\n",
    "    print(\"no is Even\")\n",
    "else:\n",
    "    print(\"no is odd\")"
   ]
  },
  {
   "cell_type": "markdown",
   "id": "b5dd98e9-4fd1-4492-8fc2-edd1c00812f8",
   "metadata": {},
   "source": [
    "## get_maximum(a, b):* Write a function that takes two numbers and returns the larger one."
   ]
  },
  {
   "cell_type": "code",
   "execution_count": 7,
   "id": "c8379991-446d-4acb-92e6-02bd36189cc3",
   "metadata": {},
   "outputs": [
    {
     "name": "stdin",
     "output_type": "stream",
     "text": [
      "Enter First no: 12\n",
      "Enter Second no: 45\n"
     ]
    },
    {
     "name": "stdout",
     "output_type": "stream",
     "text": [
      "Large number is  45\n"
     ]
    }
   ],
   "source": [
    "def large(x,y):\n",
    "    if x > y:\n",
    "        return x\n",
    "    else:\n",
    "        return y\n",
    "\n",
    "a = int(input(\"Enter First no:\"))\n",
    "b = int(input(\"Enter Second no:\"))\n",
    "\n",
    "print(\"Large number is \",large(a,b))"
   ]
  },
  {
   "cell_type": "markdown",
   "id": "ceb8bbe6-566e-4b5e-b772-75b3610bfcaf",
   "metadata": {},
   "source": [
    "## print_message():* Write a function that prints a simple message like \"Python functions are fun!\"."
   ]
  },
  {
   "cell_type": "code",
   "execution_count": 8,
   "id": "bc19f178-b16b-4361-949f-6421a9b3764e",
   "metadata": {},
   "outputs": [
    {
     "name": "stdin",
     "output_type": "stream",
     "text": [
      "Enter Message Hello,My Name is Aniket\n"
     ]
    },
    {
     "name": "stdout",
     "output_type": "stream",
     "text": [
      "Hello,My Name is Aniket\n"
     ]
    }
   ],
   "source": [
    "def print_simple_msg(msg):\n",
    "    print(msg)\n",
    "\n",
    "message = input(\"Enter Message\")\n",
    "print_simple_msg(message)"
   ]
  },
  {
   "cell_type": "markdown",
   "id": "52cad160-9e45-45a8-8067-c09377d90363",
   "metadata": {},
   "source": [
    "## calculate_area_rectangle(length, width):* Write a function that takes length and width of a rectangle and returns its area."
   ]
  },
  {
   "cell_type": "code",
   "execution_count": 9,
   "id": "ba192cf0-c9c7-4e8e-9d3b-2b35f2552180",
   "metadata": {},
   "outputs": [
    {
     "name": "stdin",
     "output_type": "stream",
     "text": [
      "Enter Length: 12\n",
      "Enter Width:  3\n"
     ]
    },
    {
     "name": "stdout",
     "output_type": "stream",
     "text": [
      "Area of Rectangle is  36\n"
     ]
    }
   ],
   "source": [
    "def cal_area(l,w):\n",
    "    return l*w\n",
    "\n",
    "l1 = int(input(\"Enter Length:\"))\n",
    "w1 = int(input(\"Enter Width: \"))\n",
    "print(\"Area of Rectangle is \", cal_area(l1,w1))"
   ]
  },
  {
   "cell_type": "markdown",
   "id": "b7d7c7cf-a2fb-4ceb-bd91-7d87d98949dd",
   "metadata": {},
   "source": [
    "## celsius_to_fahrenheit(celsius):* Write a function that converts Celsius to Fahrenheit. (Formula: $F = C \\times 9/5 + 32$)"
   ]
  },
  {
   "cell_type": "code",
   "execution_count": 11,
   "id": "de1a79a2-2134-4001-8ed7-d50431222e68",
   "metadata": {},
   "outputs": [
    {
     "name": "stdout",
     "output_type": "stream",
     "text": [
      "68.0\n"
     ]
    }
   ],
   "source": [
    "def cel_to_fah(c):\n",
    "    return c * 9 / 5 + 32\n",
    "\n",
    "print(cel_to_fah(20))"
   ]
  },
  {
   "cell_type": "markdown",
   "id": "2a1951ed-29d2-431b-8b96-9413f860db47",
   "metadata": {},
   "source": [
    "## get_list_length(my_list):* Write a function that takes a list and returns its length without using len()."
   ]
  },
  {
   "cell_type": "code",
   "execution_count": 12,
   "id": "b85a578c-0bae-4c26-ad5c-8b8a53d53701",
   "metadata": {},
   "outputs": [
    {
     "name": "stdout",
     "output_type": "stream",
     "text": [
      "4\n"
     ]
    }
   ],
   "source": [
    "def get_len(l):\n",
    "    c = 0\n",
    "    for _ in l:\n",
    "        c += 1\n",
    "    return c\n",
    "print(get_len([1, 2, 3, 4])) "
   ]
  },
  {
   "cell_type": "markdown",
   "id": "8058fb66-5c3f-4fc9-8f0c-aec1e46e83cc",
   "metadata": {},
   "source": [
    "## square(number):* Write a function that takes a number and returns its square."
   ]
  },
  {
   "cell_type": "code",
   "execution_count": 13,
   "id": "de7b3d00-c85e-4704-9188-acbb92cc735b",
   "metadata": {},
   "outputs": [
    {
     "name": "stdout",
     "output_type": "stream",
     "text": [
      "25\n"
     ]
    }
   ],
   "source": [
    "def square(n):\n",
    "    return n * n\n",
    "print(square(5)) "
   ]
  },
  {
   "cell_type": "markdown",
   "id": "506b984c-69ad-4b56-a3f6-3d1ed34746fa",
   "metadata": {},
   "source": [
    "## is_positive(number):* Write a function that takes a number and returns True if it's positive, False otherwise."
   ]
  },
  {
   "cell_type": "code",
   "execution_count": 15,
   "id": "6f6853a0-32fe-46e8-89e2-772893475703",
   "metadata": {},
   "outputs": [
    {
     "name": "stdout",
     "output_type": "stream",
     "text": [
      "False\n"
     ]
    }
   ],
   "source": [
    "def is_positive(n):\n",
    "    return n > 0\n",
    "print(is_positive(-3)) "
   ]
  },
  {
   "cell_type": "markdown",
   "id": "81aff1fd-9450-4341-b0c9-000a14c9f9ad",
   "metadata": {},
   "source": [
    "## calculate_average(numbers):* Write a function that takes a list of numbers and returns their average."
   ]
  },
  {
   "cell_type": "code",
   "execution_count": 16,
   "id": "2f2e0b37-1880-4f1f-8e65-19122b3325fa",
   "metadata": {},
   "outputs": [
    {
     "name": "stdout",
     "output_type": "stream",
     "text": [
      "2.0\n"
     ]
    }
   ],
   "source": [
    "def cal_avg(n):\n",
    "    t = 0\n",
    "    c = 0\n",
    "    for num in n:\n",
    "        t += num\n",
    "        c += 1\n",
    "    return t / c \n",
    "print(cal_avg([1, 2, 3])) "
   ]
  },
  {
   "cell_type": "markdown",
   "id": "fcb2bab8-3200-4390-9b7d-40ae498194cf",
   "metadata": {},
   "source": [
    "## is_palindrome(text):* Write a function that takes a string and returns True if it's a palindrome (reads the same forwards and backwards), False otherwise."
   ]
  },
  {
   "cell_type": "code",
   "execution_count": 17,
   "id": "518884ce-8a70-4a91-88ad-645c10655f8b",
   "metadata": {},
   "outputs": [
    {
     "name": "stdout",
     "output_type": "stream",
     "text": [
      "True\n"
     ]
    }
   ],
   "source": [
    "def is_palindrome(t):\n",
    "    return t == t[::-1]\n",
    "print(is_palindrome(\"mam\"))  "
   ]
  },
  {
   "cell_type": "markdown",
   "id": "52f95e00-81d8-44c4-b7ba-af3f3966318d",
   "metadata": {},
   "source": [
    "## count_vowels(text):* Write a function that takes a string and returns the number of vowels in it."
   ]
  },
  {
   "cell_type": "code",
   "execution_count": null,
   "id": "24e28c6c-afcf-440a-a9d8-41fd8d73adec",
   "metadata": {},
   "outputs": [],
   "source": [
    "def count_vowels(t):\n",
    "    v = \"aeiouAEIOU\"\n",
    "    c = 0\n",
    "    for char in t:\n",
    "        if char in v:\n",
    "            c += 1\n",
    "    return c\n",
    "print(count_vowels(\"Aniket\"))"
   ]
  },
  {
   "cell_type": "markdown",
   "id": "50e942c0-d56e-4ab2-8c42-763825c97cf8",
   "metadata": {},
   "source": [
    "## factorial(n):* Write a recursive function to calculate the factorial of a non-negative integer n."
   ]
  },
  {
   "cell_type": "code",
   "execution_count": 19,
   "id": "032f2076-cadb-4622-baa7-7650525214d8",
   "metadata": {},
   "outputs": [
    {
     "name": "stdout",
     "output_type": "stream",
     "text": [
      "120\n"
     ]
    }
   ],
   "source": [
    "def fact(n):\n",
    "    if n == 0 or n == 1:\n",
    "        return 1\n",
    "    return n * fact(n - 1)\n",
    "print(fact(5))"
   ]
  },
  {
   "cell_type": "markdown",
   "id": "f71358d1-f1c0-4911-8309-22f351a7aafd",
   "metadata": {},
   "source": [
    "## reverse_string(s):* Write a function that takes a string and returns its reversed version."
   ]
  },
  {
   "cell_type": "code",
   "execution_count": 20,
   "id": "8ca77bcb-87be-4954-9476-104dd323c48f",
   "metadata": {},
   "outputs": [
    {
     "name": "stdout",
     "output_type": "stream",
     "text": [
      "tekinA\n"
     ]
    }
   ],
   "source": [
    "def rev_string(s):\n",
    "    return s[::-1]\n",
    "print(rev_string(\"Aniket\"))"
   ]
  },
  {
   "cell_type": "markdown",
   "id": "4c339e6d-a585-4e18-b0c3-cc773877ee80",
   "metadata": {},
   "source": [
    "## find_smallest(numbers):* Write a function that takes a list of numbers and returns the smallest number in the list."
   ]
  },
  {
   "cell_type": "code",
   "execution_count": 21,
   "id": "0211e8e2-8d66-4440-82fa-fdda1bc63f56",
   "metadata": {},
   "outputs": [
    {
     "name": "stdout",
     "output_type": "stream",
     "text": [
      "1\n"
     ]
    }
   ],
   "source": [
    "def find_smallest(n):\n",
    "    if not n:\n",
    "        return None\n",
    "    s = n[0]\n",
    "    for num in n:\n",
    "        if num < s:\n",
    "            s = num\n",
    "    return s\n",
    "print(find_smallest([3, 1, 4])) "
   ]
  },
  {
   "cell_type": "markdown",
   "id": "d8372698-d2d9-46de-978a-04c525ab63e1",
   "metadata": {},
   "source": [
    "## remove_duplicates(my_list):* Write a function that takes a list and returns a new list with duplicate elements removed."
   ]
  },
  {
   "cell_type": "code",
   "execution_count": 22,
   "id": "5f3a96ee-4cdb-4517-bb4e-96d839f0bb59",
   "metadata": {},
   "outputs": [
    {
     "name": "stdout",
     "output_type": "stream",
     "text": [
      "[1, 2, 3]\n"
     ]
    }
   ],
   "source": [
    "def rm_duplicates(l):\n",
    "    u = []\n",
    "    for i in l:\n",
    "        if i not in u:\n",
    "            u.append(i)\n",
    "    return u\n",
    "print(rm_duplicates([1, 2, 2, 3, 1])) "
   ]
  },
  {
   "cell_type": "markdown",
   "id": "cdc4b265-9568-4141-a55d-737098db0355",
   "metadata": {},
   "source": [
    "## prime_checker(number):* Write a function that checks if a given number is a prime number."
   ]
  },
  {
   "cell_type": "code",
   "execution_count": 23,
   "id": "e1e870e5-3506-4e2a-a767-afec890bf531",
   "metadata": {},
   "outputs": [
    {
     "name": "stdout",
     "output_type": "stream",
     "text": [
      "True\n"
     ]
    }
   ],
   "source": [
    "def prime_checker(n):\n",
    "    if n <= 1:\n",
    "        return False\n",
    "    for i in range(2, int(n ** 0.5) + 1):\n",
    "        if n % i == 0:\n",
    "            return False\n",
    "    return True\n",
    "print(prime_checker(7))  "
   ]
  },
  {
   "cell_type": "markdown",
   "id": "133b3ab9-ae39-434e-a666-7dd82dca819b",
   "metadata": {},
   "source": [
    "## fibonacci_sequence(n_terms):* Write a function that generates the first n_terms of the Fibonacci sequence."
   ]
  },
  {
   "cell_type": "code",
   "execution_count": 25,
   "id": "609620d3-9641-4b05-8091-adf3d3d4dd14",
   "metadata": {},
   "outputs": [
    {
     "name": "stdout",
     "output_type": "stream",
     "text": [
      "[0, 1, 1, 2, 3, 5]\n"
     ]
    }
   ],
   "source": [
    "def fib_seq(n):\n",
    "    s = []\n",
    "    a, b = 0, 1\n",
    "    for _ in range(n):\n",
    "        s.append(a)\n",
    "        a, b = b, a + b\n",
    "    return s\n",
    "print(fib_seq(6))  "
   ]
  },
  {
   "cell_type": "markdown",
   "id": "e34c6f19-0e04-40e1-a948-fa91824254e3",
   "metadata": {},
   "source": [
    "## power(base, exponent):* Write a function that calculates base raised to the power of exponent without using the ** operator or pow() function."
   ]
  },
  {
   "cell_type": "code",
   "execution_count": 26,
   "id": "130db3e1-6904-4754-8611-d3557e783e82",
   "metadata": {},
   "outputs": [
    {
     "name": "stdout",
     "output_type": "stream",
     "text": [
      "8\n"
     ]
    }
   ],
   "source": [
    "def power(b, e):\n",
    "    r = 1\n",
    "    for _ in range(e):\n",
    "        r *= b\n",
    "    return r\n",
    "print(power(2, 3)) "
   ]
  },
  {
   "cell_type": "code",
   "execution_count": 27,
   "id": "efa35f90-756d-40c6-920e-bc05f03c91a7",
   "metadata": {},
   "outputs": [
    {
     "name": "stdout",
     "output_type": "stream",
     "text": [
      "true\n"
     ]
    }
   ],
   "source": [
    "a = [\"@\",\"gmail\"]\n",
    "s = \"Aniket\"\n",
    "\n",
    "if a[0] not in s:\n",
    "    print(\"true\")"
   ]
  },
  {
   "cell_type": "markdown",
   "id": "676bf0fa-53ce-4c1f-8833-9a4cfd9ebf18",
   "metadata": {},
   "source": [
    "## validate_email(email):* Write a function that checks if a given string is a valid email format (e.g., contains '@' and '.'). (Simple validation, no regex needed yet)."
   ]
  },
  {
   "cell_type": "code",
   "execution_count": null,
   "id": "143ad19f-2c8a-48f3-8b53-b139c44f573d",
   "metadata": {},
   "outputs": [],
   "source": []
  }
 ],
 "metadata": {
  "kernelspec": {
   "display_name": "Python 3 (ipykernel)",
   "language": "python",
   "name": "python3"
  },
  "language_info": {
   "codemirror_mode": {
    "name": "ipython",
    "version": 3
   },
   "file_extension": ".py",
   "mimetype": "text/x-python",
   "name": "python",
   "nbconvert_exporter": "python",
   "pygments_lexer": "ipython3",
   "version": "3.13.3"
  }
 },
 "nbformat": 4,
 "nbformat_minor": 5
}
