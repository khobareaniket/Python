{
 "cells": [
  {
   "cell_type": "markdown",
   "id": "03e3e978-94ea-4a82-a7b9-e281cea468fe",
   "metadata": {},
   "source": [
    "# Home Work"
   ]
  },
  {
   "cell_type": "markdown",
   "id": "90f6719d-1a9c-4e6a-b262-2a3251ea5492",
   "metadata": {},
   "source": [
    "## Q.1. Accepts any city and display their Monuments.\n",
    "\n",
    "### cityName-------------------> Monument\n",
    "\n",
    "### \"Delhi\"--------------------> ['Redfort','QutubMinar','LotusTemple']\n",
    "### Agra-----------------------> \"TajMahal\"\n",
    "### Jaipur---------------------> \"HawaMahal/JalMahal\"\n",
    "### Amritsar-------------------> \"GoldenTemple,Jalliawalabagh\"\n",
    "### Madurai--------------------> \"Meenakshi Temple\"\n",
    "### Mysore---------------------> \"Mysore palace\"\n",
    "### Mumbai --------------------> \"Gateway of India\"\n",
    "### Sanchi---------------------> \"Sanchi Stupa\"\n",
    "### Hydrabad-------------------> \"Charminar\"\n",
    "### Gujarat -------------------> \"Statue of Unity\"\n"
   ]
  },
  {
   "cell_type": "code",
   "execution_count": 25,
   "id": "e6b5c0b2-553f-4520-9b13-67038b1c54c4",
   "metadata": {},
   "outputs": [
    {
     "name": "stdin",
     "output_type": "stream",
     "text": [
      "Enter City Name Mumbai\n"
     ]
    },
    {
     "name": "stdout",
     "output_type": "stream",
     "text": [
      "Gateway of India\n"
     ]
    }
   ],
   "source": [
    "city = input(\"Enter City Name\")\n",
    "\n",
    "if city == \"Agra\" or city == \"agra\" or city == \"AGRA\":\n",
    "         print(\"TajMahal\")\n",
    "elif city == \"Delhi\" or city == \"delhi\" or city == \"DELHI\":\n",
    "         print(\"Redfort,Qutubminar\")\n",
    "elif city == \"Jaipur\" or city == \"jaipur\" or city == \"JAIPUR\":\n",
    "         print(\"Hawa Mahal\")\n",
    "elif city == \"Amritsar\" or city == \"amritsar\" or city == \"AMRITSAR\":\n",
    "         print(\"Golden Temple\")\n",
    "elif city == \"Mysore\" or city == \"mysore\" or city == \"MYSORE\":\n",
    "         print(\"Mysore Palace\")\n",
    "elif city == \"Madurai\" or city == \"madurai\" or city == \"MADURAI\":\n",
    "         print(\"Meenakshi Temple\")\n",
    "elif city == \"Mumbai\" or city == \"mumbai\" or city == \"MUMBAI\":\n",
    "         print(\"Gateway of India\")\n",
    "elif city == \"Sanchi\" or city == \"sanchi\" or city == \"SANCHI\":\n",
    "          print(\"Sanchi Stupa\")\n",
    "elif city == \"Hydrabad\" or city == \"hydrabad\" or city == \"HYDRABAD\":\n",
    "          print(\"Charminar\")\n",
    "elif city == \"Gujarat\" or city == \"gujarat\" or city == \"GUJARAT\":\n",
    "          print(\"Statue of Unity\")\n",
    "else :\n",
    "          print(\"Invalid City\")"
   ]
  },
  {
   "cell_type": "markdown",
   "id": "1967a49f-32af-465e-ac88-a0c4b786a0ae",
   "metadata": {},
   "source": [
    "## Q.2. A shop wil give you discount of 20%, if the cost of purchased is more than 2000, and if \n",
    "## purchased amount will be 1000 more than then it will discount 10%, And if purchased amout \n",
    "## is less than 1000- \"No discount\" as well print how much need more shopping \n",
    "## amount will to get minimum discount."
   ]
  },
  {
   "cell_type": "code",
   "execution_count": 5,
   "id": "f98a4288-df13-4149-8f16-bf888e5398fe",
   "metadata": {},
   "outputs": [
    {
     "name": "stdin",
     "output_type": "stream",
     "text": [
      "Enter purchase amount:  20000\n"
     ]
    },
    {
     "name": "stdout",
     "output_type": "stream",
     "text": [
      "Discount: 4000.0\n",
      "Final amount: 16000.0\n"
     ]
    }
   ],
   "source": [
    "a = float(input(\"Enter purchase amount: \"))\n",
    "if a > 2000:\n",
    "    dis = a * 0.20\n",
    "elif a > 1000:\n",
    "    dis = a * 0.10\n",
    "else:\n",
    "    dis = 0\n",
    "    print(f\"No discount. Shop more for minimum discount: {1000 - a:.2f}\")\n",
    "print(f\"Discount: {dis}\")\n",
    "print(f\"Final amount: {a - dis}\")"
   ]
  },
  {
   "cell_type": "markdown",
   "id": "940514b4-aa1b-4a27-9fa7-78aaa57c2559",
   "metadata": {},
   "source": [
    "## Q. 3.A compay will decided to give bonus to the employee according to the following criteria:\n",
    "## Time period of the service -------------------> Bonus\n",
    "## More then 10 Years ---------------------------> 10%\n",
    "## >=6 and <=10 ---------------------------------> 8%\n",
    "## <6 -------------------------------------------> 5%\n",
    "## Ask the user for their salary and yers of service and then calcualte the bonus amount is, \n",
    "## and display the total salary after increment of bonus."
   ]
  },
  {
   "cell_type": "code",
   "execution_count": 8,
   "id": "efcb7165-a9f5-4ef7-bd23-00407664092a",
   "metadata": {},
   "outputs": [
    {
     "name": "stdin",
     "output_type": "stream",
     "text": [
      "Enter your salary:  25000\n",
      "Enter Time Period of service:  4\n"
     ]
    },
    {
     "name": "stdout",
     "output_type": "stream",
     "text": [
      "Bonus: 1250.0\n",
      "Total salary after bonus: 26250.0\n"
     ]
    }
   ],
   "source": [
    "sal = float(input(\"Enter your salary: \"))\n",
    "y = int(input(\"Enter Time Period of service: \"))\n",
    "if y > 10:\n",
    "    b = sal * 0.10\n",
    "elif 6 <= y <= 10:\n",
    "    b = sal * 0.08\n",
    "else:\n",
    "    b = sal * 0.05\n",
    "tsal = sal + b\n",
    "print(f\"Bonus: {b}\")\n",
    "print(f\"Total salary after bonus: {tsal}\")"
   ]
  },
  {
   "cell_type": "markdown",
   "id": "89c4609d-cdf4-4cac-8fdf-147dd650a56a",
   "metadata": {},
   "source": [
    "\n",
    "## Q.4. Write a program to accept the cost price of a bike and display the road tax to be paid \n",
    "## according to the following criteria:\n",
    "## Cost price of bike (in RS) ------------ Tax:\n",
    "## >100000 -------------------------------> 15%\n",
    "## >50000 and <=100000---------------------> 10%\n",
    "## <50000 --------------------------------> 8%\n"
   ]
  },
  {
   "cell_type": "code",
   "execution_count": 9,
   "id": "1cee9cc0-e452-4149-9f97-6c11933ef815",
   "metadata": {},
   "outputs": [
    {
     "name": "stdin",
     "output_type": "stream",
     "text": [
      "Enter the cost price of bike:  30000\n"
     ]
    },
    {
     "name": "stdout",
     "output_type": "stream",
     "text": [
      "Road tax to be paid: 2400.0\n"
     ]
    }
   ],
   "source": [
    "p = float(input(\"Enter the cost price of bike: \"))\n",
    "if p > 100000:\n",
    "    t = p * 0.15\n",
    "elif p > 50000:\n",
    "    t = p * 0.10\n",
    "else:\n",
    "    t = p * 0.08\n",
    "print(f\"Road tax to be paid: {t}\")"
   ]
  },
  {
   "cell_type": "markdown",
   "id": "e844abbc-a7d7-4c41-b8e2-837b40ea3edf",
   "metadata": {},
   "source": [
    "## Q.5. Write a program to check person is sernior citizen or not?"
   ]
  },
  {
   "cell_type": "code",
   "execution_count": 11,
   "id": "8d1605b9-3f56-430b-8c86-490b97a43d30",
   "metadata": {},
   "outputs": [
    {
     "name": "stdin",
     "output_type": "stream",
     "text": [
      "Enter age of the person:  60\n"
     ]
    },
    {
     "name": "stdout",
     "output_type": "stream",
     "text": [
      "Person is not a senior citizen.\n"
     ]
    }
   ],
   "source": [
    "age = int(input(\"Enter age of the person: \"))\n",
    "if age >= 65:\n",
    "    print(\"Person is a senior citizen.\")\n",
    "else:\n",
    "    print(\"Person is not a senior citizen.\")"
   ]
  },
  {
   "cell_type": "markdown",
   "id": "3ad8ce8b-1bbe-4492-bd9b-58f7896c864f",
   "metadata": {},
   "source": [
    "## Q.6. Write a program to check whether a number (accepted from the user) is positive or negative.\n"
   ]
  },
  {
   "cell_type": "code",
   "execution_count": 12,
   "id": "bf200a99-5de0-4ab3-b340-b61487825034",
   "metadata": {},
   "outputs": [
    {
     "name": "stdin",
     "output_type": "stream",
     "text": [
      "Enter a number:  4\n"
     ]
    },
    {
     "name": "stdout",
     "output_type": "stream",
     "text": [
      "Positive number\n"
     ]
    }
   ],
   "source": [
    "num = float(input(\"Enter a number: \"))\n",
    "if num > 0:\n",
    "    print(\"Positive number\")\n",
    "elif num < 0:\n",
    "    print(\"Negative number\")\n",
    "else:\n",
    "    print(\"Zero\")"
   ]
  },
  {
   "cell_type": "markdown",
   "id": "da039028-4cf8-48a7-a98c-3ba04cd77e39",
   "metadata": {},
   "source": [
    "## Q.7. Accept the following from the user and calculate the percentage of the class attendence.\n",
    "## Total number of working days.\n",
    "## Total number of absent.\n",
    "## if percentage is less than 75%, then student will not sit the exam."
   ]
  },
  {
   "cell_type": "code",
   "execution_count": 14,
   "id": "d93ca7e8-16f5-4889-8a01-ebcecdc18cd5",
   "metadata": {},
   "outputs": [
    {
     "name": "stdin",
     "output_type": "stream",
     "text": [
      "Enter total working days:  30\n",
      "Enter total absent days:  4\n"
     ]
    },
    {
     "name": "stdout",
     "output_type": "stream",
     "text": [
      "Attendance percentage: 86.66666666666667%\n",
      "Student is allowed to sit in exam.\n"
     ]
    }
   ],
   "source": [
    "wd = int(input(\"Enter total working days: \"))\n",
    "ad = int(input(\"Enter total absent days: \"))\n",
    "pd = wd - ad\n",
    "per = (pd / wd) * 100\n",
    "print(f\"Attendance percentage: {per}%\")\n",
    "if per < 75:\n",
    "    print(\"Student will not be allowed to sit in exam.\")\n",
    "else:\n",
    "    print(\"Student is allowed to sit in exam.\")"
   ]
  },
  {
   "cell_type": "markdown",
   "id": "cf212fd4-8cef-4a80-b278-b43365443ea9",
   "metadata": {},
   "source": [
    "## Q.8. Calculate letters grades (A,B,C,D,E) based on score ranges (eg.-90-100:A,80-89:B,70-79:C,\n",
    "## 60-69:D,50-59:E)"
   ]
  },
  {
   "cell_type": "code",
   "execution_count": 15,
   "id": "1e0ee017-2f8c-431c-8eeb-0c7773f91327",
   "metadata": {},
   "outputs": [
    {
     "name": "stdin",
     "output_type": "stream",
     "text": [
      "Enter score:  56\n"
     ]
    },
    {
     "name": "stdout",
     "output_type": "stream",
     "text": [
      "Grade: E\n"
     ]
    }
   ],
   "source": [
    "sc = int(input(\"Enter score: \"))\n",
    "if 90 <= sc and sc <= 100:\n",
    "    g = 'A'\n",
    "elif 80 <= sc and sc <= 89:\n",
    "    g = 'B'\n",
    "elif 70 <= sc and sc <= 79:\n",
    "    g = 'C'\n",
    "elif 60 <= sc and sc <= 69:\n",
    "    g = 'D'\n",
    "elif 50 <= sc and sc <= 59:\n",
    "    g = 'E'\n",
    "else:\n",
    "    g = 'F'\n",
    "print(f\"Grade: {g}\")"
   ]
  },
  {
   "cell_type": "markdown",
   "id": "a2a7aedd-45f7-4536-9e46-5e24d1d7cd2d",
   "metadata": {},
   "source": [
    "## Q.9. Simulate a traffic light, if the light is \"Green\", print \"Go\", If yellow, print \"Caution\",\n",
    "## if red \"Stop!\""
   ]
  },
  {
   "cell_type": "code",
   "execution_count": 17,
   "id": "a44ea5ae-ab40-4e08-a29e-fb563672297b",
   "metadata": {},
   "outputs": [
    {
     "name": "stdin",
     "output_type": "stream",
     "text": [
      "Enter traffic light color (Green/Yellow/Red):  Red\n"
     ]
    },
    {
     "name": "stdout",
     "output_type": "stream",
     "text": [
      "Stop!\n"
     ]
    }
   ],
   "source": [
    "l = input(\"Enter traffic light color (Green/Yellow/Red): \")\n",
    "if l == \"Green\":\n",
    "    print(\"Go\")\n",
    "elif l == \"Yellow\":\n",
    "    print(\"Caution\")\n",
    "elif l == \"Red\":\n",
    "    print(\"Stop!\")\n",
    "else:\n",
    "    print(\"Invalid color\")"
   ]
  },
  {
   "cell_type": "markdown",
   "id": "b63d4b88-6d1c-4509-95fb-a1a4a88c6c0d",
   "metadata": {},
   "source": [
    "## Q.10. Check user roles, if \"admin\",print \"Access granted\", if \"Editor\",print \"Can edit\". If viewer\n",
    "## print \"Unknown role\""
   ]
  },
  {
   "cell_type": "code",
   "execution_count": 18,
   "id": "1e88c56c-96bb-499d-8757-8266080bd98f",
   "metadata": {},
   "outputs": [
    {
     "name": "stdin",
     "output_type": "stream",
     "text": [
      "Enter your role (admin/editor/viewer):  admin\n"
     ]
    },
    {
     "name": "stdout",
     "output_type": "stream",
     "text": [
      "Access granted\n"
     ]
    }
   ],
   "source": [
    "r = input(\"Enter your role (admin/editor/viewer): \")\n",
    "if r == \"admin\":\n",
    "    print(\"Access granted\")\n",
    "elif r == \"editor\":\n",
    "    print(\"Can edit\")\n",
    "else:\n",
    "    print(\"Unknown role\")"
   ]
  },
  {
   "cell_type": "markdown",
   "id": "6a77d165-4727-4bd9-948e-89817b912c09",
   "metadata": {},
   "source": [
    "## Q.11. Apply discount based on purchase amount. If over 100 first show in rupees \"₹ 86.99\" then 15% discount \n",
    "## if over $50, 5% discount, otherwise no discount."
   ]
  },
  {
   "cell_type": "code",
   "execution_count": 19,
   "id": "af4b7357-cca7-4dac-95d5-401768897031",
   "metadata": {},
   "outputs": [
    {
     "name": "stdin",
     "output_type": "stream",
     "text": [
      "Enter purchase amount in USD:  200\n"
     ]
    },
    {
     "name": "stdout",
     "output_type": "stream",
     "text": [
      "Amount in INR: ₹ 17398.0\n",
      "Discount: ₹ 2609.7\n",
      "Final Price: ₹ 14788.3\n"
     ]
    }
   ],
   "source": [
    "u = float(input(\"Enter purchase amount in USD: \"))\n",
    "i = u * 86.99\n",
    "print(f\"Amount in INR: ₹ {i}\")\n",
    "if u > 100:\n",
    "    dis = i * 0.15\n",
    "elif u > 50:\n",
    "    dis = i * 0.05\n",
    "else:\n",
    "    dis = 0\n",
    "print(f\"Discount: ₹ {dis}\")\n",
    "print(f\"Final Price: ₹ {i - dis}\")"
   ]
  },
  {
   "cell_type": "markdown",
   "id": "7eaf5b40-f61c-487d-9860-b748ae6f0044",
   "metadata": {},
   "source": [
    "## Q.12. Determine if a character is uppercase, lowercase, a digit or a special character."
   ]
  },
  {
   "cell_type": "code",
   "execution_count": 20,
   "id": "f5e4fc60-ddb0-46d6-9583-15cc681858d8",
   "metadata": {},
   "outputs": [
    {
     "name": "stdin",
     "output_type": "stream",
     "text": [
      "Enter a character:  A\n"
     ]
    },
    {
     "name": "stdout",
     "output_type": "stream",
     "text": [
      "Uppercase letter\n"
     ]
    }
   ],
   "source": [
    "char = input(\"Enter a character: \")\n",
    "if char.isupper():\n",
    "    print(\"Uppercase letter\")\n",
    "elif char.islower():\n",
    "    print(\"Lowercase letter\")\n",
    "elif char.isdigit():\n",
    "    print(\"Digit\")\n",
    "else:\n",
    "    print(\"Special character\")"
   ]
  },
  {
   "cell_type": "markdown",
   "id": "48d67099-fb27-4b83-a8e1-18a1c26723b6",
   "metadata": {},
   "source": [
    "## Q.13. Based on the number of sides entered (3,5,7 etc), Identify Triangle shape\n",
    "## (trianlge,pentagon, septagon etc)"
   ]
  },
  {
   "cell_type": "code",
   "execution_count": 21,
   "id": "499a7f2f-e2e7-4f1b-b466-af193a3abf10",
   "metadata": {},
   "outputs": [
    {
     "name": "stdin",
     "output_type": "stream",
     "text": [
      "Enter number of sides:  3\n"
     ]
    },
    {
     "name": "stdout",
     "output_type": "stream",
     "text": [
      "Triangle\n"
     ]
    }
   ],
   "source": [
    "s = int(input(\"Enter number of sides: \"))\n",
    "if s == 3:\n",
    "    print(\"Triangle\")\n",
    "elif s == 4:\n",
    "    print(\"Quadrilateral\")\n",
    "elif s == 5:\n",
    "    print(\"Pentagon\")\n",
    "elif s == 6:\n",
    "    print(\"Hexagon\")\n",
    "elif s == 7:\n",
    "    print(\"Heptagon\")\n",
    "elif s == 8:\n",
    "    print(\"Octagon\")\n",
    "else:\n",
    "    print(\"Shape not recognized\")"
   ]
  },
  {
   "cell_type": "markdown",
   "id": "bbb4c767-9f0f-4632-ab78-9c5423a6f004",
   "metadata": {},
   "source": [
    "## Q.14. Write a program to determine if a character is a vowel or consonent."
   ]
  },
  {
   "cell_type": "code",
   "execution_count": 23,
   "id": "775bbbeb-4724-4323-8975-43183971ea26",
   "metadata": {},
   "outputs": [
    {
     "name": "stdin",
     "output_type": "stream",
     "text": [
      "Enter an alphabet:  A\n"
     ]
    },
    {
     "name": "stdout",
     "output_type": "stream",
     "text": [
      "Vowel\n"
     ]
    }
   ],
   "source": [
    "ch = input(\"Enter an alphabet: \")\n",
    "if ch in 'aeiouAEIOU':\n",
    "    print(\"Vowel\")\n",
    "else:\n",
    "    print(\"Consonent\")"
   ]
  },
  {
   "cell_type": "markdown",
   "id": "cb4c7e2d-edc8-4dda-82d2-1986a0ef83f2",
   "metadata": {},
   "source": [
    "## Q.15. Crete a simple calulator that performs basic arithmetic operations based on two user input.\n",
    "## (^,*,/,-,+)\n"
   ]
  },
  {
   "cell_type": "code",
   "execution_count": 24,
   "id": "feebdada-4da4-4ab8-9ea3-f32eb17e110e",
   "metadata": {},
   "outputs": [
    {
     "name": "stdin",
     "output_type": "stream",
     "text": [
      "Enter first number:  12\n",
      "Enter operator (^, *, /, -, +):  +\n",
      "Enter second number:  24\n"
     ]
    },
    {
     "name": "stdout",
     "output_type": "stream",
     "text": [
      "Result: 36.0\n"
     ]
    }
   ],
   "source": [
    "num1 = float(input(\"Enter first number: \"))\n",
    "op = input(\"Enter operator (^, *, /, -, +): \")\n",
    "num2 = float(input(\"Enter second number: \"))\n",
    "if op == '+':\n",
    "    res = num1 + num2\n",
    "elif op == '-':\n",
    "    res = num1 - num2\n",
    "elif op == '*':\n",
    "    res = num1 * num2\n",
    "elif op == '/':\n",
    "    res = num1 / num2\n",
    "elif op == '^':\n",
    "    res = num1 ** num2\n",
    "else:\n",
    "    res = \"Invalid operator\"\n",
    "print(f\"Result: {res}\")"
   ]
  },
  {
   "cell_type": "code",
   "execution_count": null,
   "id": "0ed62e59-7b9e-4b0e-8b5f-00fe0ae532a4",
   "metadata": {},
   "outputs": [],
   "source": []
  }
 ],
 "metadata": {
  "kernelspec": {
   "display_name": "Python 3 (ipykernel)",
   "language": "python",
   "name": "python3"
  },
  "language_info": {
   "codemirror_mode": {
    "name": "ipython",
    "version": 3
   },
   "file_extension": ".py",
   "mimetype": "text/x-python",
   "name": "python",
   "nbconvert_exporter": "python",
   "pygments_lexer": "ipython3",
   "version": "3.13.3"
  }
 },
 "nbformat": 4,
 "nbformat_minor": 5
}
